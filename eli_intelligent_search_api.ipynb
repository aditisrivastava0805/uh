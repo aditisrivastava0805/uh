{
 "cells": [
  {
   "cell_type": "markdown",
   "metadata": {},
   "source": [
    "# ELI Intelligent Search APIs\n",
    "\n",
    "### What is Retrieval Augmented Generation (RAG)?\n",
    "\n",
    "Retrieval Augmented Generation (RAG) is a framework that combines the generative capabilities of large language models (LLMs) with external data sources to generate more accurate and up-to-date responses.\n",
    "\n",
    "RAG helps overcome limitations of standalone LLMs, such as lack of up-to-date information and inability to provide sources for responses.\n",
    "By grounding the LLM in external data, RAG can reduce hallucinations and increase relizability of answers.\n",
    "\n",
    "### Intelligent Search for Telecom\n",
    "\n",
    "Intelligent Search for Telecom (ELI Semantic) is a Retrieval Augmented Generation (RAG) solution enhanced with Telecom-adapted LMs covering various data sources including CPI, 3GPP, Wikipedia etc.\n",
    "It provides an end-to-end RAG system with retrieval, reranking, and generation stages.\n",
    "\n",
    "### ELI Gateway\n",
    "\n",
    "ELI Gateway is the entypoint to the ELI platform and provides API access to various deployed language models and various use cases.\n",
    "\n",
    "> These APIs are meant for exploration purposes, if you are targeting production deployment contact the [ELI Team](https://ericsson.sharepoint.com/sites/GAIA-Portal/SitePages/ELI--Ericsson-Language-Intelligence.aspx).\n",
    "\n",
    "ELI provides locally deployed models where no data leaves to external services, but there is also support for external models such as those from Azure OpenAI and AWS Bedrock."
   ]
  },
  {
   "cell_type": "markdown",
   "metadata": {},
   "source": [
    "### Install requirements\n",
    "\n",
    "Install the requirements for this guide as follows. \n",
    "\n",
    "If you have not already done so, it ss a good practice to create a Python virtual environment to avoid conflicts with your system dependencies.\n",
    "\n",
    "You can follow [this guide](https://docs.python.org/3/tutorial/venv.html) to create an environment and activate."
   ]
  },
  {
   "cell_type": "code",
   "execution_count": 2,
   "metadata": {},
   "outputs": [
    {
     "name": "stdout",
     "output_type": "stream",
     "text": [
      "Couldn't find program: 'sh'\n"
     ]
    }
   ],
   "source": [
    "%%sh\n",
    "\n",
    "pip install --no-cache-dir -q -r requirements.txt"
   ]
  },
  {
   "cell_type": "markdown",
   "metadata": {},
   "source": [
    "### ELI API Key\n",
    "\n",
    "To use the ELI APIs, you will need to get your API Key as follows:\n",
    "\n",
    "1. Register or login at https://gateway.eli.gaia.gic.ericsson.se using your Ericsson account.\n",
    "2. Copy the API key from the user [Profile](https://gateway.eli.gaia.gic.ericsson.se/profile) page.\n",
    "3. Save the API key to a file called **.eli-key** in the same path as this notebook. So it can be loaded directly as shown below.\n",
    "\n",
    "DO NOT SHARE YOUR **PERSONAL** API KEY with others!!\n",
    "\n",
    "As a practice, do not put the API key in your code/notebooks."
   ]
  },
  {
   "cell_type": "code",
   "execution_count": 3,
   "metadata": {},
   "outputs": [],
   "source": [
    "# Use the API Key as is (Reminder - do not hard-code in public notebooks/code)\n",
    "ELI_API_KEY = \"eli-58e256f2-2d43-488f-9626-ffa03ed96d84\"\n",
    "\n",
    "# Or if you have it stored in a file, load as follows\n",
    "# ELI_API_KEY = open(\".eli-key\").read().strip()\n",
    "\n",
    "# Set ELI Gateway URL\n",
    "ELI_API_URL = \"https://gateway.eli.gaia.gic.ericsson.se\""
   ]
  },
  {
   "cell_type": "markdown",
   "metadata": {},
   "source": [
    "### List Generative LLMs on ELI\n",
    "\n",
    "This API endpoint will responsd with list of names of generative llms deployed on ELI.\n",
    "\n",
    "Any of the models names can be used later."
   ]
  },
  {
   "cell_type": "code",
   "execution_count": 4,
   "metadata": {},
   "outputs": [],
   "source": [
    "import warnings\n",
    "import requests\n",
    "\n",
    "warnings.filterwarnings(\"ignore\")\n",
    "\n",
    "\n",
    "def eli_list_generative_llms():\n",
    "    \"\"\"Make API call to list the generative LLMs available in ELI.\"\"\"\n",
    "\n",
    "    try:\n",
    "        headers = {\n",
    "            \"Authorization\": f\"Bearer {ELI_API_KEY}\",\n",
    "            \"Content-Type\": \"application/json\",\n",
    "        }\n",
    "        response = requests.get(f\"{ELI_API_URL}/api/v1/llm/list\", headers=headers, timeout=(300, 300), verify=False)\n",
    "        if response.ok:\n",
    "            return response.json().get(\"models\", [])\n",
    "        print(\"Failed to get response.\", response.text)\n",
    "    except Exception as ex:\n",
    "        print(f\"An error occurred: {ex}.\")"
   ]
  },
  {
   "cell_type": "code",
   "execution_count": 5,
   "metadata": {},
   "outputs": [
    {
     "name": "stdout",
     "output_type": "stream",
     "text": [
      "['deepseekr1-14b', 'llama3.1-8b', 'mistral-12b', 'phi4-14b', 'qwen2.5-7b', 'qwen3-8b']\n"
     ]
    }
   ],
   "source": [
    "# List LLMs\n",
    "\n",
    "print(eli_list_generative_llms())"
   ]
  },
  {
   "cell_type": "markdown",
   "metadata": {},
   "source": [
    "Any of the above models can be used in the API requests below.\n",
    "\n",
    "> Note that if you provide an unknown model name in a request, then the default model will be used to respond.\n",
    "\n",
    "> As of June 2024, the default generative LLM in ELI is `LLaMA3-8B`"
   ]
  },
  {
   "cell_type": "markdown",
   "metadata": {},
   "source": [
    "### ELI Intelligent Search APIs\n",
    "\n",
    "Telecom LM-based Retrieval/Reranking + Generation. The search part is performed in two stages:\n",
    "\n",
    "- Stage-I: retrieve relevant sections from vector store.\n",
    "- Stage-II: (optional) rerank results with cross encoder model.\n",
    "- Finally, generative model is used to compose an answer to the query."
   ]
  },
  {
   "cell_type": "markdown",
   "metadata": {},
   "source": [
    "**Request Structure**\n",
    "\n",
    "The request payload sent to ELI Gateway is structured as follows: \n",
    "```json\n",
    "{\n",
    "  \"query\": \"\",\n",
    "  \"chat_history\": [],\n",
    "  \"category\": \"\",\n",
    "  \"cpi_library_id\": \"\",\n",
    "  \"cpi_library_title\": \"\",\n",
    "  \"index_name\": \"\",\n",
    "  \"top_k\": 10,\n",
    "  \"rerank\": true,\n",
    "  \"hybrid_alpha\": 1,\n",
    "  \"generate_answer\": true,\n",
    "  \"model\": \"LLaMA3-8b\",\n",
    "  \"max_new_tokens\": 512,\n",
    "  \"temperature\": 0.01,\n",
    "  \"client\": \"api\",\n",
    "  \"stream\": false,\n",
    "  \"stream_batch_tokens\": 10,\n",
    "  \"rag_method\": \"v2\"\n",
    "}\n",
    "```\n",
    "\n",
    "The `chat_history` messages use the following format:\n",
    "```python\n",
    "chat_history = [\n",
    "    {\"role\": \"user\", \"content\" : \"<message>\"},\n",
    "    {\"role\": \"assistant\", \"content\" : \"<message>\"},\n",
    "]\n",
    "```\n",
    "\n",
    "Use asterisk (*) to query the default index.\n",
    "Please use the default value if not sure what an attribute means.\n",
    "\n",
    "\n",
    "**Response Structure**\n",
    "\n",
    "The response from ELI Gateway is structured as follows:\n",
    "\n",
    "```json\n",
    "{\n",
    "  \"answer\": \"\",\n",
    "  \"evidences\": [\n",
    "    {\n",
    "      \"hit_id\": \"1\",\n",
    "      \"rec_id\": \"\",\n",
    "      \"category\": \"CPI Store\",\n",
    "      \"doc_name\": \"\",\n",
    "      \"doc_url\": \"\",\n",
    "      \"doc_title\": \"\",\n",
    "      \"doc_subtitle\": \"\",\n",
    "      \"section_title\": \"\",\n",
    "      \"doc_text\": \"\",\n",
    "      \"doc_type\": \"\",\n",
    "      \"doc_page_num\": \"\",\n",
    "      \"cpi_folder_id\": \"\",\n",
    "      \"cpi_folder_title\": \"\",\n",
    "      \"cpi_library_id\": \"\",\n",
    "      \"cpi_library_title\": \"\",\n",
    "      \"cpi_library_date\": \"\",\n",
    "      \"stage1_rank\": 1,\n",
    "      \"stage1_score\": 0.0,\n",
    "      \"stage2_rank\": 1,\n",
    "      \"stage2_score\": 0.0\n",
    "    }\n",
    "  ],\n",
    "  \"message\": \"\",\n",
    "  \"time_elapsed\": \"\",\n",
    "  \"status\": \"success\"\n",
    "}\n",
    "```"
   ]
  },
  {
   "cell_type": "code",
   "execution_count": 19,
   "metadata": {},
   "outputs": [],
   "source": [
    "import json\n",
    "import warnings\n",
    "import requests\n",
    "\n",
    "warnings.filterwarnings(\"ignore\")\n",
    "\n",
    "\n",
    "def eli_semantic_categories(index:str):\n",
    "    \"\"\"Make API call to list the data source categories in ELI Semantic.\"\"\"\n",
    "\n",
    "    try:\n",
    "        headers = {\n",
    "            \"Authorization\": f\"Bearer {ELI_API_KEY}\",\n",
    "            \"Content-Type\": \"application/json\",\n",
    "        }\n",
    "        response = requests.get(\n",
    "            f\"{ELI_API_URL}/api/v1/rag/categories/{index}\",\n",
    "            headers=headers,\n",
    "            timeout=(300, 300),\n",
    "            verify=False,\n",
    "        )\n",
    "        if response.ok:\n",
    "            return response.json().get(\"categories\", [])\n",
    "        print(\"Failed to get response.\", response.text)\n",
    "    except Exception as ex:\n",
    "        print(f\"An error occurred: {ex}.\")\n",
    "\n",
    "\n",
    "def eli_semantic_cpi_library_identities(index:str):\n",
    "    \"\"\"Make API call to list the cpi library identities in ELI Semantic.\"\"\"\n",
    "\n",
    "    try:\n",
    "        headers = {\n",
    "            \"Authorization\": f\"Bearer {ELI_API_KEY}\",\n",
    "            \"Content-Type\": \"application/json\",\n",
    "        }\n",
    "        response = requests.get(\n",
    "            f\"{ELI_API_URL}/api/v1/rag/cpi/library_identities/{index}\",\n",
    "            headers=headers,\n",
    "            timeout=(300, 300),\n",
    "            verify=False,\n",
    "        )\n",
    "        if response.ok:\n",
    "            return response.json().get(\"categories\", [])\n",
    "        print(\"Failed to get response.\", response.text)\n",
    "    except Exception as ex:\n",
    "        print(f\"An error occurred: {ex}.\")\n",
    "\n",
    "\n",
    "def eli_semantic_cpi_library_titles(index:str):\n",
    "    \"\"\"Make API call to list the cpi library titles in ELI Semantic.\"\"\"\n",
    "\n",
    "    try:\n",
    "        headers = {\n",
    "            \"Authorization\": f\"Bearer {ELI_API_KEY}\",\n",
    "            \"Content-Type\": \"application/json\",\n",
    "        }\n",
    "        response = requests.get(\n",
    "            f\"{ELI_API_URL}/api/v1/rag/cpi/library_titles/{index}\",\n",
    "            headers=headers,\n",
    "            timeout=(300, 300),\n",
    "            verify=False,\n",
    "        )\n",
    "        if response.ok:\n",
    "            return response.json().get(\"categories\", [])\n",
    "        print(\"Failed to get response.\", response.text)\n",
    "    except Exception as ex:\n",
    "        print(f\"An error occurred: {ex}.\")\n",
    "\n",
    "def eli_semantic_search_filters(index:str):\n",
    "    \"\"\"Make API call to list the search filters in ELI Semantic.\"\"\"\n",
    "\n",
    "    try:\n",
    "        headers = {\n",
    "            \"Authorization\": f\"Bearer {ELI_API_KEY}\",\n",
    "            \"Content-Type\": \"application/json\",\n",
    "        }\n",
    "        response = requests.get(\n",
    "            f\"{ELI_API_URL}/api/v1/rag/search_filters/{index}\",\n",
    "            headers=headers,\n",
    "            timeout=(300, 300),\n",
    "            verify=False,\n",
    "        )\n",
    "        if response.ok:\n",
    "            return response.json().get(\"search_filters\", [])\n",
    "        print(\"Failed to get response.\", response.text)\n",
    "    except Exception as ex:\n",
    "        print(f\"An error occurred: {ex}.\")\n",
    "\n",
    "\n",
    "def eli_semantic_rag(\n",
    "    index: str,\n",
    "    query: str,\n",
    "    chat_history: list = [],\n",
    "    model: str = \"mistral\",\n",
    "    category: str = \"\",\n",
    "    cpi_library_id: str = \"\",\n",
    "    rerank: bool = True,\n",
    "    top_k: int = 5,\n",
    "    generate_answer: bool = True,\n",
    "):\n",
    "    \"\"\"\n",
    "    Make API call to ELI Semantic endpoint and ask questions on Ericsson internal documents.\n",
    "\n",
    "    query: the question to ask\n",
    "    category: the category of information source, empty to cover all\n",
    "    \"\"\"\n",
    "\n",
    "    try:\n",
    "        payload = {\n",
    "            \"index_name\": index,\n",
    "            \"model\": model,\n",
    "            \"query\": query,\n",
    "            \"chat_history\": chat_history,\n",
    "            \"category\": category,\n",
    "            \"cpi_library_id\": cpi_library_id,\n",
    "            \"rerank\": rerank,\n",
    "            \"top_k\": top_k,\n",
    "            \"generate_answer\": generate_answer,\n",
    "        }\n",
    "        headers = {\n",
    "            \"Authorization\": f\"Bearer {ELI_API_KEY}\",\n",
    "            \"Content-Type\": \"application/json\",\n",
    "        }\n",
    "        response = requests.post(\n",
    "            f\"{ELI_API_URL}/api/v1/rag/query\",\n",
    "            json=payload,\n",
    "            headers=headers,\n",
    "            timeout=(300, 300),\n",
    "            verify=False,\n",
    "        )\n",
    "        if response.ok:\n",
    "            return response.json()\n",
    "        print(\"Failed to get response.\", response.text)\n",
    "    except Exception as ex:\n",
    "        print(f\"An error occurred: {ex}.\")"
   ]
  },
  {
   "cell_type": "code",
   "execution_count": 20,
   "metadata": {},
   "outputs": [],
   "source": [
    "# Default index on ELI is marked as *.\n",
    "# This can be changed to other index names if you get information from the ELI Team.\n",
    "INDEX_NAME = \"*\""
   ]
  },
  {
   "cell_type": "code",
   "execution_count": 21,
   "metadata": {},
   "outputs": [
    {
     "name": "stdout",
     "output_type": "stream",
     "text": [
      "Categories:\n",
      "['All Sources', 'CAL Store - BEAM', 'CAL Store - CBA', 'CAL Store - CEE', 'CAL Store - CNIS Solution', 'CAL Store - CNOM', 'CAL Store - Cloud Core', 'CAL Store - Cloud SDN', 'CAL Store - DM 5GC Small on Ericsson CNIS', 'CAL Store - DSE', 'CAL Store - ENIQ', 'CAL Store - ENM', 'CAL Store - Ericsson CCD', 'CAL Store - Ericsson Charging 22.10, Support', 'CAL Store - Ericsson Charging 22.11, Support', 'CAL Store - Ericsson Charging 22.8, Support', 'CAL Store - Ericsson Charging 22.9, Support', 'CAL Store - Ericsson Mediation', 'CAL Store - Ericsson Operations Manager Cloud Infrastructure [OMC]', 'CAL Store - Ericsson Orchestrator', 'CAL Store - Ericsson Transport Automation Controller', 'CAL Store - Hyperscale Datacenter System', 'CAL Store - IMS', 'CAL Store - Internal Test Libraries', 'CAL Store - MSC', 'CAL Store - Mobile Core', 'CAL Store - NFVI Solution', 'CAL Store - Network Solutions', 'CAL Store - R19', 'CPI Store - CBEV', 'CPI Store - ENIQ Statistics', 'CPI Store - ENM', 'CPI Store - Ericsson Charging 22.10', 'CPI Store - Ericsson Charging 22.11', 'CPI Store - Ericsson Charging 22.8', 'CPI Store - Ericsson Charging 22.9', 'CPI Store - Ericsson Mediation', 'CPI Store - Ericsson Operations Manager Cloud Infrastructure (OMC)', 'CPI Store - Ericsson Transport Automation Controller', 'CPI Store - LTE RAN, NR', 'CPI Store - Mobile Core', 'CPI Store - OMBS', 'CPI Store - PCC', 'CPI Store - PCG', 'CPI Store - Radio', 'CPI Store - Software Defined Storage (SDS)']\n",
      "\n",
      "CPI Library IDs:\n",
      "['EN/LZN 701 0493 R18E', 'EN/LZN 701 0537 R1L', 'EN/LZN 702 0281/5 R2A', 'EN/LZN 702 0309/7 R2A', 'EN/LZN 702 0318/5 R2A', 'EN/LZN 702 0322/4 R2A', 'EN/LZN 702 0329/7 R2A', 'EN/LZN 702 0336 R2A', 'EN/LZN 702 0354/5 R2A', 'EN/LZN 702 0372 R2A', 'EN/LZN 702 0374/3 R2A', 'EN/LZN 702 0389/6 R2A', 'EN/LZN 702 0392/5 R2A', 'EN/LZN 702 0414/4 R2A', 'EN/LZN 702 0419/4 R2A', 'EN/LZN 702 0441/2 R2A', 'EN/LZN 702 0448 R39B', 'EN/LZN 702 0448/1 R39B', 'EN/LZN 702 0471/2 R2A', 'EN/LZN 702 0506/1 R103A', 'EN/LZN 702 0520/1 R116A', 'EN/LZN 702 0554/1 R13A', 'EN/LZN 702 0555/1 R13A', 'EN/LZN 702 0559/1 R10C', 'EN/LZN 702 0562/1 R18A', 'EN/LZN 703 0205 R164G', 'EN/LZN 703 0205 R184A', 'EN/LZN 703 0215/2 R2D', 'EN/LZN 703 0221 R1GF', 'EN/LZN 703 0221 R5GF', 'EN/LZN 703 0278 R100A', 'EN/LZN 703 0278 R109A', 'EN/LZN 703 0278 R98A', 'EN/LZN 703 0278/1 R100A', 'EN/LZN 703 0278/1 R109A', 'EN/LZN 703 0279 R109A', 'EN/LZN 703 0279 R88B', 'EN/LZN 703 0279 R91A', 'EN/LZN 703 0279 R92A', 'EN/LZN 703 0279 R98A', 'EN/LZN 703 0279/1 R100A', 'EN/LZN 703 0279/1 R109A', 'EN/LZN 703 0283 R100A', 'EN/LZN 703 0283 R109A', 'EN/LZN 703 0284 R100A', 'EN/LZN 703 0284 R109A', 'EN/LZN 703 0284 R88A', 'EN/LZN 703 0284 R92A', 'EN/LZN 703 0289 R109A', 'EN/LZN 703 0289 R98A', 'EN/LZN 703 0292 R109A', 'EN/LZN 703 0292 R88A', 'EN/LZN 703 0292 R92A', 'EN/LZN 703 0292 R98A', 'EN/LZN 703 0319 R11A', 'EN/LZN 703 0337 R8A', 'EN/LZN 704 0220/1 R92A', 'EN/LZN 704 0243 R177A', 'EN/LZN 704 0261 R37C', 'EN/LZN 704 0261/1 R37C', 'EN/LZN 704 0264/2 R27D', 'EN/LZN 704 0273/3 R4A', 'EN/LZN 704 0277/1 R3B', 'EN/LZN 705 9066 R13A', 'EN/LZN 705 9067 R12A', 'EN/LZN 705 9070 R3A', 'EN/LZN 705 9071 R2A', 'EN/LZN 706 0072 R7J', 'EN/LZN 706 0072 R7K', 'EN/LZN 706 0072 R7L', 'EN/LZN 706 0093 R1U', 'EN/LZN 706 0093 R1V', 'EN/LZN 707 0321 R18B', 'EN/LZN 708 0920 R1HS', 'EN/LZN 712 0476/11 R30C', 'EN/LZN 716 0523 R5A', 'EN/LZN 716 0539/1 R2A', 'EN/LZN 733 0010 R17AB', 'EN/LZN 741 0076 R28A', 'EN/LZN 741 0076 R29A', 'EN/LZN 741 0076 R30A', 'EN/LZN 741 0076 R32A', 'EN/LZN 741 0077 R28A', 'EN/LZN 741 0077 R29A', 'EN/LZN 741 0077 R30A', 'EN/LZN 741 0077 R32A', 'EN/LZN 741 0126 R28C', 'EN/LZN 741 0126 R28E', 'EN/LZN 741 0126 R28F', 'EN/LZN 741 0126 R28H', 'EN/LZN 741 0127 R27B', 'EN/LZN 741 0127 R27D', 'EN/LZN 741 0127 R27E', 'EN/LZN 741 0127 R27G', 'EN/LZN 741 0129 R22A', 'EN/LZN 741 0129 R24A', 'EN/LZN 741 0129 R25A', 'EN/LZN 741 0129 R26A', 'EN/LZN 741 0130 R23A', 'EN/LZN 741 0130 R25A', 'EN/LZN 741 0130 R26A', 'EN/LZN 741 0130 R27A', 'EN/LZN 741 0132 R21A', 'EN/LZN 741 0132 R23A', 'EN/LZN 741 0132 R24A', 'EN/LZN 741 0132 R25A', 'EN/LZN 741 0133 R23A', 'EN/LZN 741 0133 R25A', 'EN/LZN 741 0133 R26A', 'EN/LZN 741 0133 R27A', 'EN/LZN 741 0147 R7A', 'EN/LZN 741 0148 R7A', 'EN/LZN 741 0160/7 R9B', 'EN/LZN 741 0160/7 R9C', 'EN/LZN 741 0160/7 R9D', 'EN/LZN 741 0160/7 R9E', 'EN/LZN 741 0160/8 R9B', 'EN/LZN 741 0160/8 R9C', 'EN/LZN 741 0160/8 R9D', 'EN/LZN 741 0160/8 R9E', 'EN/LZN 741 0171 R29A', 'EN/LZN 741 0171 R30A', 'EN/LZN 741 0171 R31A', 'EN/LZN 741 0171 R32A', 'EN/LZN 741 0172 R29A', 'EN/LZN 741 0172 R30A', 'EN/LZN 741 0172 R31A', 'EN/LZN 741 0172 R32A', 'EN/LZN 741 0191 R28A', 'EN/LZN 741 0191 R30A', 'EN/LZN 741 0191 R31A', 'EN/LZN 741 0191 R32A', 'EN/LZN 741 0192 R28A', 'EN/LZN 741 0192 R29A', 'EN/LZN 741 0192 R30A', 'EN/LZN 741 0192 R31A', 'EN/LZN 741 0193 R29A', 'EN/LZN 741 0193 R31A', 'EN/LZN 741 0193 R32A', 'EN/LZN 741 0194 R30A', 'EN/LZN 741 0194 R31A', 'EN/LZN 741 0194 R32A', 'EN/LZN 741 0194 R33A', 'EN/LZN 741 0203 R21A', 'EN/LZN 741 0203 R22A', 'EN/LZN 741 0203 R23A', 'EN/LZN 741 0203 R24A', 'EN/LZN 741 0213 R21A', 'EN/LZN 741 0213 R22A', 'EN/LZN 741 0213 R23A', 'EN/LZN 741 0213 R24A', 'EN/LZN 741 0220 R1AS', 'EN/LZN 741 0220 R1AT', 'EN/LZN 741 0221 R1AM', 'EN/LZN 741 0221 R1AN', 'EN/LZN 741 0221 R1AS', 'EN/LZN 741 0221 R1AT', 'EN/LZN 741 0229/1 R13J', 'EN/LZN 741 0229/1 R13L', 'EN/LZN 741 0229/1 R13S', 'EN/LZN 741 0229/1 R13T', 'EN/LZN 741 0230/1 R13J', 'EN/LZN 741 0230/1 R13L', 'EN/LZN 741 0230/1 R13S', 'EN/LZN 741 0230/1 R13T', 'EN/LZN 741 0241 R20A', 'EN/LZN 741 0241 R21A', 'EN/LZN 741 0241 R22A', 'EN/LZN 741 0241 R23A', 'EN/LZN 741 0242 R20B', 'EN/LZN 741 0242 R21A', 'EN/LZN 741 0242 R22A', 'EN/LZN 741 0242 R23A', 'EN/LZN 741 0339 R21A', 'EN/LZN 741 0339 R25D', 'EN/LZN 741 0339 R26F', 'EN/LZN 741 0339 R27C', 'EN/LZN 741 0340 R24B', 'EN/LZN 741 0340 R25D', 'EN/LZN 741 0340 R25F', 'EN/LZN 741 0340 R26F', 'EN/LZN 741 0340 R27B', 'EN/LZN 745 0026 R25A', 'EN/LZN 745 0028 R43A', 'EN/LZN 745 0029/2 R34A', 'EN/LZN 745 0036/2 R6A', 'EN/LZN 745 0038/2 R15A', 'EN/LZN 760 4002 R62A', 'EN/LZN 760 5043 R63A', 'EN/LZN 764 0056/17 R1A', 'EN/LZN 764 0056/19 R1A', 'EN/LZN 764 0056/20 R1A', 'EN/LZN 764 0056/21 R1A', 'EN/LZN 764 0056/22 R1A', 'EN/LZN 764 0062/1 R10A', 'EN/LZN 764 0062/1 R11A', 'EN/LZN 764 0062/1 R9A', 'EN/LZN 764 0063 R9A', 'EN/LZN 764 0063/1 R10A', 'EN/LZN 764 0063/1 R9A', 'EN/LZN 764 0067/1 R11A', 'EN/LZN 765 0041 R2A', 'EN/LZN 765 0041/6 R25A/1', 'EN/LZN 765 0068/7 R2A', 'EN/LZN 765 0164/9 P35C', 'EN/LZN 765 0173/2 R28A', 'EN/LZN 765 0210 R32A', 'EN/LZN 765 0236 R26A', 'EN/LZN 765 0268/2 R19A', 'EN/LZN 768 0180/5 R17B', 'EN/LZN 768 0180/5 R18A', 'EN/LZN 768 0180/7 R1A', 'EN/LZN 768 0182/1 R25A', 'EN/LZN 768 0186 R7E', 'EN/LZN 780 0024 R19H', 'EN/LZN 780 0035/1 R19A', 'EN/LZN 780 0035/2 R19A', 'EN/LZN 780 0035/2 R20A', 'EN/LZN 780 0037/3 R10A', 'EN/LZN 780 0037/3 R7C', 'EN/LZN 780 0037/3 R9A', 'EN/LZN 780 0040 R10A', 'EN/LZN 780 0040 R9A', 'EN/LZN 792 0001/13 R13A', 'EN/LZN 792 0001/13 R14A', 'EN/LZN 792 0009/2 R31F', 'EN/LZN 792 0009/2 R32F', 'EN/LZN 792 0009/2 R34B', 'EN/LZN 792 0009/2 R35A', 'EN/LZN 793 1020 R50B', 'EN/LZN 793 1040 R49G', 'EN/LZN 793 1071 R37G', 'EN/LZN 794 0001/2 R19B', 'EN/LZN 795 0055/2 R3A', 'EN/LZN 795 0055/2 R6A', 'EN/LZN 795 0068 R1AJ', 'EN/LZN 795 0068 R1H', 'EN/LZN 795 0068 R1U', 'EN/LZN 795 0085 R1E', 'EN/LZN 795 0085 R2E', 'EN/LZN 795 0086 R1E', 'EN/LZN 795 0086 R2B', 'EN/LZN 795 5034/2 R30C', 'EN/LZN 795 5034/2 R31B', 'EN/LZN 795 5034/2 R32A', 'EN/LZN 795 5034/4 R12B', 'EN/LZN 795 5034/4 R13A']\n",
      "\n",
      "CPI Library Titles:\n",
      "['All Libraries', 'Account Finder (AF) 3.0', 'Account Finder (AF) 3.0, Support', 'Account Information and Refill (AIR) 4.0', 'Account Information and Refill (AIR) 4.0, Support', 'Automated Acceptance Tests (AAT) 2.39', 'BOS Application Manager (BAM) 3.34.1', 'BOS Application Manager (BAM) 3.40.1', 'BOS Application Manager (BAM) 3.46.1', 'Baseband Radio Node MTR 25.11', 'C-Diameter 4.1, Ericsson Internal Support', 'CAF 1.12.0', 'CAF 1.14.0, Ericsson Internal Support', 'CAF 1.15.0', 'CAF 1.15.0, Ericsson Internal Support', 'CAF 1.16.1, Ericsson Internal Support', 'CAF 1.17.0, Cloud Native', 'CAF 1.17.0, Cloud Native Ericsson Internal Support', 'CAF 1.17.0, Virtualized', 'CAF 1.17.0, Virtualized Ericsson Internal Support', 'CAF 1.19.0, Cloud Native', 'CAF 1.19.0, Cloud Native Ericsson Internal Support', 'CAF 1.19.0, Virtualized', 'CAF 1.19.0, Virtualized Ericsson Internal Support', 'CDF 4.1, Ericsson Internal Support', 'CNIS Solution 1.15, Support (Updated)', 'CNIS Solution 1.16, Support (Updated)', 'Charging Compound 1, External Interface Specifications', 'Charging Compound 1, Internal Interface Specifications, Support', 'Charging Compound 1.28.0', 'Charging Compound 1.29.0, Support', 'Charging Compound 1.30.0', 'Charging Compound 1.30.0, Support', 'Charging Compound 4.39.0', 'Charging Compound 4.39.0, Support', 'Charging Compound 4.40.0, Support', 'Charging Control Node (CCN) 6.13.0', 'Charging Control Node (CCN) 6.13.0, Support', 'Charging Control Node (CCN) 6.14.0', 'Charging Control Node (CCN) 6.14.0, Support', 'Charging Control Node (CCN) 6.15.0', 'Charging Control Node (CCN) 6.15.0, Support', 'Charging Control Node (CCN) 6.17.0', 'Charging Control Node (CCN) 6.17.0, Support', 'Charging and Billing Evolved (CBEV) 23.7, Virtualized', 'Charging data Reporting System (CRS) 9.13, CPI', 'Charging data Reporting System (CRS) 9.13, Support', 'Charging data Reporting System (CRS) 9.14, CPI', 'Charging data Reporting System (CRS) 9.14, Support', 'Charging data Reporting System (CRS) 9.15.0, CPI', 'Charging data Reporting System (CRS) 9.15.0, Support', 'Charging data Reporting System (CRS) 9.16.0, CPI', 'Charging data Reporting System (CRS) 9.16.0, Support', 'Classic CNOM 2.3, Ericsson Internal Support', 'Cloud Core Data-Storage Manager (CCDM) 1.12', 'Cloud Core Data-Storage Manager (CCDM) 1.12, Ericsson Internal Support', 'Cloud Core Exposure Server (CCES) 1.17, Ericsson Internal Support', 'Cloud Core Exposure Server (CCES) 1.18 Drop 115, Ericsson Internal Support', 'Cloud Core Policy Controller (CCPC) Drop 102', 'Cloud Core Subscription Manager (CCSM) 1.9.2, Ericsson Internal Support', 'Cloud Execution Environment (CEE) 10.10, Ericsson Internal Support', 'Cloud Execution Environment (CEE) 10.11, Ericsson Internal Support', 'Cloud Native CNOM 2.2, Ericsson Internal Support', 'Cloud SDN 8.10 - CEE Integration (NFVI 7.10), Ericsson Internal Support', 'Cloud SDN 8.8 - CEE Integration (NFVI 7.8), Ericsson Internal Support', 'Cloud SDN 8.9 - CEE Integration (NFVI 7.9), Ericsson Internal Support', 'Cloud SDN Switch (CSS), Ericsson Internal Support', 'Core MW 7.1, Ericsson Internal Support', 'DBS 6.1, Ericsson Internal Support', 'DX Toolbox 2.1, Ericsson Internal Support', 'Dual-Mode 5G Core Small 2.3 on Ericsson CNIS, Ericsson Internal Support', 'ENM Installation and Support, AOM 901 151 R1HH', 'ENM Installation and Support, AOM 901 151 R1HH, IP3 Rebuild', 'EOOM Test build', 'Ericsson Adaptive Inventory 16.1.0.1', 'Ericsson BSP 8100 R19.7, Ericsson Internal Support (updated)', 'Ericsson Charging - Network Management Toolkit 6.1, CPI', 'Ericsson Charging - Network Management Toolkit 6.1, Support', 'Ericsson Charging - Network Management Toolkit 6.2, CPI', 'Ericsson Charging - Network Management Toolkit 6.2, Support', 'Ericsson Charging - Network Management Toolkit 6.3.0, CPI', 'Ericsson Charging - Network Management Toolkit 6.3.0, Support', 'Ericsson Charging - Network Management Toolkit 6.4.0, CPI', 'Ericsson Charging - Network Management Toolkit 6.4.0, Support', 'Ericsson Charging 22.10', 'Ericsson Charging 22.10, Support', 'Ericsson Charging 22.11', 'Ericsson Charging 22.11, Support', 'Ericsson Charging 22.8', 'Ericsson Charging 22.8, Support', 'Ericsson Charging 22.9', 'Ericsson Charging 22.9, Support', 'Ericsson Cloud Container Distribution 2.28.5 Internal Support Library', 'Ericsson Cloud Container Distribution 2.29.5 Internal Support Library', 'Ericsson Cloud Container Distribution 2.31.1 Internal Support Library', 'Ericsson Cloud Container Distribution 2.32.0 Internal Support Library', 'Ericsson Customer Management System (ECMS) 6.1.0', 'Ericsson Customer Management System (ECMS) 6.2.0', 'Ericsson Customer Management System (ECMS) 6.3.0', 'Ericsson Customer Management System (ECMS) 6.4.0', 'Ericsson Device Security Enabler (DSE) 1.6.2, Support', 'Ericsson Expert Analytics (EEA) 4.10, Support', 'Ericsson Home Subscriber Server Front End (HSS-FE) 1.38', 'Ericsson Home Subscriber Server Front End (HSS-FE) 1.38, Support', 'Ericsson Mediation 21.11', 'Ericsson Mediation 21.12', 'Ericsson Mediation 24.1', 'Ericsson Mediation 24.2', 'Ericsson Network IQ Statistics (ENIQ-S) 24.2 EU4 Installation and Support', 'Ericsson Network IQ Statistics (ENIQ-S) 25.1 GA', 'Ericsson Network Manager, ENM, AOM 901 151 25.5.0', 'Ericsson Network Manager, ENM, AOM 901 151 R1GT, IP10', 'Ericsson OMC 2.8.0', 'Ericsson OMC 2.8.0, Ericsson Internal Support', 'Ericsson OMC 2.9.0, Ericsson Internal Support', 'Ericsson Orchestrator Cloud Manager 23.4.0 Support Product Information', 'Ericsson Orchestrator Cloud Manager 23.4.4 Support Product Information', 'Ericsson Orchestrator Cloud Manager 23.4.6', 'Ericsson Orchestrator Cloud Manager 23.4.6 Support Product Information', 'Ericsson Orchestrator Cloud Manager 23.4.8', 'Ericsson Orchestrator Cloud Manager 23.4.8 Support Product Information', 'Ericsson Orchestrator Cloud Native 23.4.0 Rebuild 1 Support Product Information', 'Ericsson Orchestrator Cloud Native 23.4.3 Support Product Information', 'Ericsson Orchestrator Cloud Native 23.4.6', 'Ericsson Orchestrator Cloud Native 23.4.6 Support Product Information', 'Ericsson Orchestrator Cloud Native 23.4.8', 'Ericsson Orchestrator Cloud Native 23.4.8 Support Product Information', 'Ericsson Orchestrator Cloud Native 23.5.0 Support Product Information', 'Ericsson Orchestrator Cloud Native 23.6.2', 'Ericsson Orchestrator Cloud Native 23.6.2 Support Product Information', 'Ericsson Orchestrator Cloud Native 4.2.0', 'Ericsson Orchestrator Cloud Native 4.2.0 Support Product Information', 'Ericsson Orchestrator EVNFM 23.4.0 Support Product Information', 'Ericsson Orchestrator EVNFM 23.5.0 Support Product Information', 'Ericsson Orchestrator EVNFM 23.6.2', 'Ericsson Orchestrator EVNFM 23.6.2 Support Product Information', 'Ericsson Orchestrator EVNFM 4.2.0', 'Ericsson Orchestrator EVNFM 4.2.0 Support Product Information', 'Ericsson R6000 25 Q1', 'Ericsson Radio System Hardware - Antenna System, Enclosure, Integrated Site Solutions, Network Synchronization, Power, Radio, RAN Compute and RBS', 'Ericsson Remote Equipment Manager 3.8, Support (Update 2)', 'Ericsson Remote Equipment Manager 3.9, Support', 'Ericsson Software Defined Infrastructure (Ericsson SDI) 2.25 Support', 'Ericsson Software Defined Infrastructure (Ericsson SDI) 2.25.1 SLX Based Networking Support', 'Ericsson Software Defined Infrastructure (Ericsson SDI) 2.25.1 Support', 'Ericsson Software Defined Infrastructure (Ericsson SDI) 2.26 SLX Based Networking Support', 'Ericsson Software Defined Infrastructure (Ericsson SDI) 2.26 Support', 'Ericsson Software Defined Infrastructure (Ericsson SDI) 3.6.2, Support', 'Ericsson Software Defined Infrastructure (Ericsson SDI) 3.8, Support (Update 2)', 'Ericsson Software Defined Infrastructure (Ericsson SDI), 3.9, Support (Update 2)', 'Ericsson Transport Automation Controller 1.3.0', 'Ericsson Transport Automation Controller 25.Q1', 'IMCN 2.21, Ericsson Internal Support', 'JavaOaM 6.1, Ericsson Internal Support', 'JavaSIP 4.1, Ericsson Internal Support', 'LDE-LINUX 2.1, Ericsson Internal Support', 'LDEwS 5.1, Ericsson Internal Support', 'LEM 5.1, Ericsson Internal Support', 'LTE RAN 25.Q1.1', 'License Manager 7.1, Ericsson Internal Support', 'MMAS 6.24.1, Ericsson Internal Support', 'MMAS 7.1, Ericsson Internal Support', 'MSC-S 18.6, Ericsson Internal Support', 'MSC-S 18.7, Ericsson Internal Support', 'NFVI Solution 7.10, Support', 'NFVI Solution 7.8, Support', 'NFVI Solution 7.9, Support', 'NR RAN 25.Q1.1', 'Network Solutions 24.Q1.0', 'Network Solutions 24.Q3.0', 'Network Solutions 24.Q4.0', 'Network Solutions 25.Q1.0', 'Network Solutions 25.Q2.0', 'Online Charging Control (OCC) 3.18.0, CPI', 'Online Charging Control (OCC) 3.18.0, Support', 'Online Charging Control (OCC) 3.19.0, CPI', 'Online Charging Control (OCC) 3.19.0, Support', 'Online Charging Control (OCC) 3.20.0, CPI', 'Online Charging Control (OCC) 3.20.0, Support', 'Online Charging Control (OCC) 3.21.0, CPI', 'Online Charging Control (OCC) 3.21.0, Support', 'Operation and Maintenance Backup Solution (OMBS_25.2.0) (18 03 2025)', 'Packet Core Controller (PCC) 1.36', 'Packet Core Controller (PCC) 1.36, Ericsson Internal Support', 'Packet Core Gateway (PCG) 1.28, Ericsson Internal Support', 'Radio', 'Radio Dot System (RDS) 25.Q1.1', 'SEC 3.1, Ericsson Internal Support', 'SS7 CAF 7.1, Ericsson Internal Support', 'SS7 for SDP and AIR', 'SS7 for SDP and AIR, Support', 'Secure Entitlement Server (SES) 22.3.41, Ericsson Internal Support', 'Service Data Point (SDP) 5', 'Service Data Point (SDP) 5, Support', 'Signaling Controller (SC) 1.16, Ericsson Internal Support', 'Software Defined Storage (SDS) 1.20', 'Software Defined Storage (SDS) 1.20, Support', 'Software Defined Storage (SDS) 1.21, Support', 'Trace 5.1 , Ericsson Internal Support', 'Virtual IMS 2.21 for CNIS with CEE', 'Virtual IMS 2.21 for Ericsson NFVI (CEE/SDI)', 'Virtual IMS 2.22 for Ericsson NFVI (CEE/SDI)', 'Voucher Server (VS) 5.0', 'Voucher Server 5.0, Support', 'eVIP 4.1, Ericsson Internal Support', 'vAFG 2.18.0, Ericsson Internal Support', 'vBGF 1.42.0, Ericsson Internal Support', 'vCSCF 1.30.0, Ericsson Internal Support', 'vDicosEE 5.1, Ericsson Internal Support', 'vEMe 1.25.0, Ericsson Internal Support', 'vMRF 1.24.0, Ericsson Internal Support', 'vMTAS 1.36.0 (LSV351), Ericsson Internal Support', 'vNSDS 2.14.0, Ericsson Internal Support', 'vSBC 2.33.0, Ericsson Internal Support', 'vSBG 2.27.0, Ericsson Internal Support', 'vWA 2.5.0, Ericsson Internal Support']\n",
      "\n",
      "Search Filters:\n",
      "{'CAL Store - IMS': {'EN/LZN 765 0164/9 P35C': 'vMTAS 1.36.0 (LSV351), Ericsson Internal Support', 'EN/LZN 745 0028 R43A': 'vBGF 1.42.0, Ericsson Internal Support', 'EN/LZN 765 0173/2 R28A': 'vSBG 2.27.0, Ericsson Internal Support', 'EN/LZN 745 0036/2 R6A': 'vWA 2.5.0, Ericsson Internal Support', 'EN/LZN 765 0210 R32A': 'vCSCF 1.30.0, Ericsson Internal Support', 'EN/LZN 768 0180/7 R1A': 'Virtual IMS 2.21 for CNIS with CEE', 'EN/LZN 765 0236 R26A': 'vEMe 1.25.0, Ericsson Internal Support', 'EN/LZN 745 0029/2 R34A': 'vSBC 2.33.0, Ericsson Internal Support', 'EN/LZN 768 0180/5 R17B': 'Virtual IMS 2.21 for Ericsson NFVI (CEE/SDI)', 'EN/LZN 745 0026 R25A': 'vMRF 1.24.0, Ericsson Internal Support', 'EN/LZN 765 0268/2 R19A': 'vAFG 2.18.0, Ericsson Internal Support', 'EN/LZN 745 0038/2 R15A': 'vNSDS 2.14.0, Ericsson Internal Support', 'EN/LZN 765 0041/6 R25A/1': 'MMAS 6.24.1, Ericsson Internal Support', 'EN/LZN 768 0180/5 R18A': 'Virtual IMS 2.22 for Ericsson NFVI (CEE/SDI)', 'EN/LZN 768 0182/1 R25A': 'IMCN 2.21, Ericsson Internal Support'}, 'CAL Store - MSC': {'EN/LZN 716 0539/1 R2A': 'MSC-S 18.7, Ericsson Internal Support', 'EN/LZN 716 0523 R5A': 'MSC-S 18.6, Ericsson Internal Support'}, 'CPI Store - Ericsson Charging 22.11': {'EN/LZN 741 0191 R32A': 'Charging Compound 1, External Interface Specifications', 'EN/LZN 741 0339 R27C': 'CAF 1.19.0, Virtualized', 'EN/LZN 795 0085 R2E': 'CAF 1.19.0, Cloud Native', 'EN/LZN 741 0076 R32A': 'Charging Control Node (CCN) 6.17.0', 'EN/LZN 741 0220 R1AT': 'Voucher Server (VS) 5.0', 'EN/LZN 741 0126 R28H': 'Service Data Point (SDP) 5', 'EN/LZN 741 0171 R32A': 'Online Charging Control (OCC) 3.21.0, CPI', 'EN/LZN 741 0129 R26A': 'Account Finder (AF) 3.0', 'EN/LZN 795 0068 R1AJ': 'BOS Application Manager (BAM) 3.46.1', 'EN/LZN 741 0130 R27A': 'Account Information and Refill (AIR) 4.0', 'EN/LZN 741 0229/1 R13T': 'Charging data Reporting System (CRS) 9.16.0, CPI', 'EN/LZN 741 0160/7 R9E': 'Ericsson Charging - Network Management Toolkit 6.4.0, CPI', 'EN/LZN 741 0203 R24A': 'Ericsson Customer Management System (ECMS) 6.4.0', 'EN/LZN 741 0241 R23A': 'Ericsson Charging 22.11', 'EN/LZN 741 0147 R7A': 'SS7 for SDP and AIR'}, 'CPI Store - Radio': {'EN/LZN 712 0476/11 R30C': 'Ericsson R6000 25 Q1', 'EN/LZN 760 5043 R63A': 'Ericsson Radio System Hardware - Antenna System, Enclosure, Integrated Site Solutions, Network Synchronization, Power, Radio, RAN Compute and RBS', 'EN/LZN 793 1020 R50B': 'Baseband Radio Node MTR 25.11', 'EN/LZN 708 0920 R1HS': 'Operation and Maintenance Backup Solution (OMBS_25.2.0) (18 03 2025)'}, 'CPI Store - Ericsson Charging 22.9': {'EN/LZN 741 0339 R25D': 'CAF 1.15.0', 'EN/LZN 741 0076 R29A': 'Charging Control Node (CCN) 6.14.0', 'EN/LZN 741 0193 R31A': 'Charging Compound 1.30.0', 'EN/LZN 741 0191 R30A': 'Charging Compound 1, External Interface Specifications', 'EN/LZN 741 0129 R24A': 'Account Finder (AF) 3.0', 'EN/LZN 741 0160/7 R9C': 'Ericsson Charging - Network Management Toolkit 6.2, CPI', 'EN/LZN 795 0068 R1H': 'BOS Application Manager (BAM) 3.34.1', 'EN/LZN 741 0171 R30A': 'Online Charging Control (OCC) 3.19.0, CPI', 'EN/LZN 741 0130 R25A': 'Account Information and Refill (AIR) 4.0', 'EN/LZN 741 0126 R28E': 'Service Data Point (SDP) 5', 'EN/LZN 741 0229/1 R13L': 'Charging data Reporting System (CRS) 9.14, CPI', 'EN/LZN 741 0147 R7A': 'SS7 for SDP and AIR', 'EN/LZN 741 0203 R22A': 'Ericsson Customer Management System (ECMS) 6.2.0', 'EN/LZN 741 0241 R21A': 'Ericsson Charging 22.9'}, 'CAL Store - Ericsson CCD': {'EN/LZN 792 0009/2 R34B': 'Ericsson Cloud Container Distribution 2.31.1 Internal Support Library', 'EN/LZN 792 0009/2 R32F': 'Ericsson Cloud Container Distribution 2.29.5 Internal Support Library', 'EN/LZN 792 0009/2 R31F': 'Ericsson Cloud Container Distribution 2.28.5 Internal Support Library'}, 'CAL Store - Cloud Core': {'EN/LZN 702 0520/1 R116A': 'Cloud Core Exposure Server (CCES) 1.18 Drop 115, Ericsson Internal Support', 'EN/LZN 780 0037/3 R9A': 'Ericsson Software Defined Infrastructure (Ericsson SDI) 3.8, Support (Update 2)', 'EN/LZN 703 0319 R11A': 'Ericsson Expert Analytics (EEA) 4.10, Support', 'EN/LZN 702 0562/1 R18A': 'Cloud Core Exposure Server (CCES) 1.17, Ericsson Internal Support', 'EN/LZN 702 0559/1 R10C': 'Cloud Core Subscription Manager (CCSM) 1.9.2, Ericsson Internal Support', 'EN/LZN 702 0506/1 R103A': 'Cloud Core Policy Controller (CCPC) Drop 102', 'EN/LZN 780 0035/2 R19A': 'Software Defined Storage (SDS) 1.20, Support', 'EN/LZN 707 0321 R18B': 'Secure Entitlement Server (SES) 22.3.41, Ericsson Internal Support', 'EN/LZN 702 0555/1 R13A': 'Cloud Core Data-Storage Manager (CCDM) 1.12, Ericsson Internal Support', 'EN/LZN 702 0554/1 R13A': 'Cloud Core Data-Storage Manager (CCDM) 1.12', 'EN/LZN 780 0037/3 R7C': 'Ericsson Software Defined Infrastructure (Ericsson SDI) 3.6.2, Support', 'EN/LZN 780 0040 R9A': 'Ericsson Remote Equipment Manager 3.8, Support (Update 2)', 'EN/LZN 706 0072 R7K': 'NFVI Solution 7.9, Support', 'EN/LZN 706 0072 R7J': 'NFVI Solution 7.8, Support', 'EN/LZN 706 0093 R1U': 'CNIS Solution 1.15, Support (Updated)'}, 'CAL Store - Ericsson Charging 22.8, Support': {'EN/LZN 741 0194 R30A': 'Charging Compound 1.29.0, Support', 'EN/LZN 741 0077 R28A': 'Charging Control Node (CCN) 6.13.0, Support', 'EN/LZN 741 0192 R28A': 'Charging Compound 1, Internal Interface Specifications, Support', 'EN/LZN 741 0127 R27B': 'Service Data Point (SDP) 5, Support', 'EN/LZN 741 0340 R24B': 'CAF 1.14.0, Ericsson Internal Support', 'EN/LZN 741 0221 R1AM': 'Voucher Server 5.0, Support', 'EN/LZN 741 0172 R29A': 'Online Charging Control (OCC) 3.18.0, Support', 'EN/LZN 741 0148 R7A': 'SS7 for SDP and AIR, Support', 'EN/LZN 741 0230/1 R13J': 'Charging data Reporting System (CRS) 9.13, Support', 'EN/LZN 741 0133 R23A': 'Account Information and Refill (AIR) 4.0, Support', 'EN/LZN 741 0213 R21A': 'Ericsson Customer Management System (ECMS) 6.1.0', 'EN/LZN 741 0160/8 R9B': 'Ericsson Charging - Network Management Toolkit 6.1, Support', 'EN/LZN 741 0242 R20B': 'Ericsson Charging 22.8, Support', 'EN/LZN 741 0132 R21A': 'Account Finder (AF) 3.0, Support'}, 'CPI Store - PCC': {'EN/LZN 704 0261 R37C': 'Packet Core Controller (PCC) 1.36', 'EN/LZN 704 0261/1 R37C': 'Packet Core Controller (PCC) 1.36, Ericsson Internal Support'}, 'CAL Store - Ericsson Charging 22.11, Support': {'EN/LZN 741 0340 R27B': 'CAF 1.19.0, Virtualized Ericsson Internal Support', 'EN/LZN 741 0077 R32A': 'Charging Control Node (CCN) 6.17.0, Support', 'EN/LZN 741 0192 R31A': 'Charging Compound 1, Internal Interface Specifications, Support', 'EN/LZN 795 0086 R2B': 'CAF 1.19.0, Cloud Native Ericsson Internal Support', 'EN/LZN 741 0148 R7A': 'SS7 for SDP and AIR, Support', 'EN/LZN 741 0194 R33A': 'Charging Compound 4.40.0, Support', 'EN/LZN 741 0221 R1AT': 'Voucher Server 5.0, Support', 'EN/LZN 741 0172 R32A': 'Online Charging Control (OCC) 3.21.0, Support', 'EN/LZN 741 0127 R27G': 'Service Data Point (SDP) 5, Support', 'EN/LZN 741 0133 R27A': 'Account Information and Refill (AIR) 4.0, Support', 'EN/LZN 741 0132 R25A': 'Account Finder (AF) 3.0, Support', 'EN/LZN 741 0213 R24A': 'Ericsson Customer Management System (ECMS) 6.4.0', 'EN/LZN 741 0160/8 R9E': 'Ericsson Charging - Network Management Toolkit 6.4.0, Support', 'EN/LZN 741 0230/1 R13T': 'Charging data Reporting System (CRS) 9.16.0, Support', 'EN/LZN 741 0242 R23A': 'Ericsson Charging 22.11, Support'}, 'CAL Store - Ericsson Orchestrator': {'EN/LZN 703 0292 R92A': 'Ericsson Orchestrator EVNFM 23.5.0 Support Product Information', 'EN/LZN 703 0279 R88B': 'Ericsson Orchestrator Cloud Native 23.4.0 Rebuild 1 Support Product Information', 'EN/LZN 703 0283 R100A': 'Ericsson Orchestrator Cloud Manager 23.4.6', 'EN/LZN 703 0278 R98A': 'Ericsson Orchestrator Cloud Native 23.6.2', 'EN/LZN 703 0279 R92A': 'Ericsson Orchestrator Cloud Native 23.5.0 Support Product Information', 'EN/LZN 703 0284 R92A': 'Ericsson Orchestrator Cloud Manager 23.4.4 Support Product Information', 'EN/LZN 703 0289 R98A': 'Ericsson Orchestrator EVNFM 23.6.2', 'EN/LZN 703 0278/1 R100A': 'Ericsson Orchestrator Cloud Native 23.4.6', 'EN/LZN 703 0284 R88A': 'Ericsson Orchestrator Cloud Manager 23.4.0 Support Product Information', 'EN/LZN 703 0279 R98A': 'Ericsson Orchestrator Cloud Native 23.6.2 Support Product Information', 'EN/LZN 703 0284 R100A': 'Ericsson Orchestrator Cloud Manager 23.4.6 Support Product Information', 'EN/LZN 703 0279/1 R100A': 'Ericsson Orchestrator Cloud Native 23.4.6 Support Product Information', 'EN/LZN 703 0292 R88A': 'Ericsson Orchestrator EVNFM 23.4.0 Support Product Information', 'EN/LZN 703 0279 R91A': 'Ericsson Orchestrator Cloud Native 23.4.3 Support Product Information', 'EN/LZN 703 0292 R98A': 'Ericsson Orchestrator EVNFM 23.6.2 Support Product Information'}, 'CAL Store - ENM': {'EN/LZN 703 0221 R1GF': 'ENM Installation and Support, AOM 901 151 R1HH', 'EN/LZN 703 0221 R5GF': 'ENM Installation and Support, AOM 901 151 R1HH, IP3 Rebuild'}, 'CAL Store - Hyperscale Datacenter System': {'EN/LZN 795 5034/4 R12B': 'Ericsson Software Defined Infrastructure (Ericsson SDI) 2.25.1 SLX Based Networking Support', 'EN/LZN 795 5034/2 R31B': 'Ericsson Software Defined Infrastructure (Ericsson SDI) 2.25.1 Support', 'EN/LZN 795 5034/2 R30C': 'Ericsson Software Defined Infrastructure (Ericsson SDI) 2.25 Support'}, 'CPI Store - Ericsson Charging 22.8': {'EN/LZN 741 0191 R28A': 'Charging Compound 1, External Interface Specifications', 'EN/LZN 741 0339 R21A': 'CAF 1.12.0', 'EN/LZN 741 0229/1 R13J': 'Charging data Reporting System (CRS) 9.13, CPI', 'EN/LZN 741 0076 R28A': 'Charging Control Node (CCN) 6.13.0', 'EN/LZN 741 0126 R28C': 'Service Data Point (SDP) 5', 'EN/LZN 741 0171 R29A': 'Online Charging Control (OCC) 3.18.0, CPI', 'EN/LZN 741 0130 R23A': 'Account Information and Refill (AIR) 4.0', 'EN/LZN 741 0147 R7A': 'SS7 for SDP and AIR', 'EN/LZN 741 0193 R29A': 'Charging Compound 1.28.0', 'EN/LZN 741 0160/7 R9B': 'Ericsson Charging - Network Management Toolkit 6.1, CPI', 'EN/LZN 741 0129 R22A': 'Account Finder (AF) 3.0', 'EN/LZN 741 0241 R20A': 'Ericsson Charging 22.8', 'EN/LZN 741 0203 R21A': 'Ericsson Customer Management System (ECMS) 6.1.0'}, 'CAL Store - Ericsson Charging 22.10, Support': {'EN/LZN 741 0077 R30A': 'Charging Control Node (CCN) 6.15.0, Support', 'EN/LZN 741 0133 R26A': 'Account Information and Refill (AIR) 4.0, Support', 'EN/LZN 741 0340 R26F': 'CAF 1.17.0, Virtualized Ericsson Internal Support', 'EN/LZN 741 0192 R30A': 'Charging Compound 1, Internal Interface Specifications, Support', 'EN/LZN 741 0148 R7A': 'SS7 for SDP and AIR, Support', 'EN/LZN 795 0086 R1E': 'CAF 1.17.0, Cloud Native Ericsson Internal Support', 'EN/LZN 741 0230/1 R13S': 'Charging data Reporting System (CRS) 9.15.0, Support', 'EN/LZN 741 0172 R31A': 'Online Charging Control (OCC) 3.20.0, Support', 'EN/LZN 741 0127 R27E': 'Service Data Point (SDP) 5, Support', 'EN/LZN 741 0194 R32A': 'Charging Compound 4.39.0, Support', 'EN/LZN 741 0221 R1AS': 'Voucher Server 5.0, Support', 'EN/LZN 741 0132 R24A': 'Account Finder (AF) 3.0, Support', 'EN/LZN 741 0160/8 R9D': 'Ericsson Charging - Network Management Toolkit 6.3.0, Support', 'EN/LZN 741 0213 R23A': 'Ericsson Customer Management System (ECMS) 6.3.0', 'EN/LZN 741 0242 R22A': 'Ericsson Charging 22.10, Support'}, 'CAL Store - Ericsson Charging 22.9, Support': {'EN/LZN 741 0077 R29A': 'Charging Control Node (CCN) 6.14.0, Support', 'EN/LZN 741 0192 R29A': 'Charging Compound 1, Internal Interface Specifications, Support', 'EN/LZN 741 0148 R7A': 'SS7 for SDP and AIR, Support', 'EN/LZN 741 0127 R27D': 'Service Data Point (SDP) 5, Support', 'EN/LZN 741 0172 R30A': 'Online Charging Control (OCC) 3.19.0, Support', 'EN/LZN 741 0194 R31A': 'Charging Compound 1.30.0, Support', 'EN/LZN 741 0230/1 R13L': 'Charging data Reporting System (CRS) 9.14, Support', 'EN/LZN 741 0340 R25D': 'CAF 1.15.0, Ericsson Internal Support', 'EN/LZN 741 0213 R22A': 'Ericsson Customer Management System (ECMS) 6.2.0', 'EN/LZN 741 0133 R25A': 'Account Information and Refill (AIR) 4.0, Support', 'EN/LZN 741 0160/8 R9C': 'Ericsson Charging - Network Management Toolkit 6.2, Support', 'EN/LZN 741 0221 R1AN': 'Voucher Server 5.0, Support', 'EN/LZN 741 0132 R23A': 'Account Finder (AF) 3.0, Support', 'EN/LZN 741 0242 R21A': 'Ericsson Charging 22.9, Support'}, 'CAL Store - CBA': {'EN/LZN 765 0068/7 R2A': 'License Manager 7.1, Ericsson Internal Support', 'EN/LZN 702 0322/4 R2A': 'eVIP 4.1, Ericsson Internal Support', 'EN/LZN 702 0414/4 R2A': 'C-Diameter 4.1, Ericsson Internal Support', 'EN/LZN 702 0372 R2A': 'JavaSIP 4.1, Ericsson Internal Support', 'EN/LZN 702 0318/5 R2A': 'vDicosEE 5.1, Ericsson Internal Support', 'EN/LZN 702 0471/2 R2A': 'LDE-LINUX 2.1, Ericsson Internal Support', 'EN/LZN 702 0329/7 R2A': 'SS7 CAF 7.1, Ericsson Internal Support', 'EN/LZN 702 0354/5 R2A': 'Trace 5.1 , Ericsson Internal Support', 'EN/LZN 702 0336 R2A': 'JavaOaM 6.1, Ericsson Internal Support', 'EN/LZN 702 0419/4 R2A': 'CDF 4.1, Ericsson Internal Support', 'EN/LZN 702 0281/5 R2A': 'LDEwS 5.1, Ericsson Internal Support', 'EN/LZN 702 0392/5 R2A': 'LEM 5.1, Ericsson Internal Support', 'EN/LZN 702 0389/6 R2A': 'DBS 6.1, Ericsson Internal Support', 'EN/LZN 702 0374/3 R2A': 'SEC 3.1, Ericsson Internal Support', 'EN/LZN 702 0309/7 R2A': 'Core MW 7.1, Ericsson Internal Support', 'EN/LZN 765 0041 R2A': 'MMAS 7.1, Ericsson Internal Support', 'EN/LZN 702 0441/2 R2A': 'DX Toolbox 2.1, Ericsson Internal Support'}, 'CPI Store - Ericsson Charging 22.10': {'EN/LZN 795 0085 R1E': 'CAF 1.17.0, Cloud Native', 'EN/LZN 741 0191 R31A': 'Charging Compound 1, External Interface Specifications', 'EN/LZN 741 0126 R28F': 'Service Data Point (SDP) 5', 'EN/LZN 741 0203 R23A': 'Ericsson Customer Management System (ECMS) 6.3.0', 'EN/LZN 741 0076 R30A': 'Charging Control Node (CCN) 6.15.0', 'EN/LZN 741 0339 R26F': 'CAF 1.17.0, Virtualized', 'EN/LZN 741 0193 R32A': 'Charging Compound 4.39.0', 'EN/LZN 741 0171 R31A': 'Online Charging Control (OCC) 3.20.0, CPI', 'EN/LZN 741 0220 R1AS': 'Voucher Server (VS) 5.0', 'EN/LZN 741 0130 R26A': 'Account Information and Refill (AIR) 4.0', 'EN/LZN 741 0160/7 R9D': 'Ericsson Charging - Network Management Toolkit 6.3.0, CPI', 'EN/LZN 741 0229/1 R13S': 'Charging data Reporting System (CRS) 9.15.0, CPI', 'EN/LZN 795 0068 R1U': 'BOS Application Manager (BAM) 3.40.1', 'EN/LZN 741 0147 R7A': 'SS7 for SDP and AIR', 'EN/LZN 741 0129 R25A': 'Account Finder (AF) 3.0', 'EN/LZN 741 0241 R22A': 'Ericsson Charging 22.10'}, 'CPI Store - LTE RAN, NR': {'EN/LZN 793 1040 R49G': 'LTE RAN 25.Q1.1', 'EN/LZN 793 1071 R37G': 'NR RAN 25.Q1.1'}, 'CPI Store - CBEV': {'EN/LZN 703 0337 R8A': 'Charging and Billing Evolved (CBEV) 23.7, Virtualized', 'EN/LZN 704 0243 R177A': 'Automated Acceptance Tests (AAT) 2.39'}, 'CPI Store - ENM': {'EN/LZN 703 0205 R164G': 'Ericsson Network Manager, ENM, AOM 901 151 R1GT, IP10', 'EN/LZN 703 0215/2 R2D': 'Ericsson Adaptive Inventory 16.1.0.1', 'EN/LZN 703 0205 R184A': 'Ericsson Network Manager, ENM, AOM 901 151 25.5.0'}, 'CPI Store - Ericsson Operations Manager Cloud Infrastructure (OMC)': {'EN/LZN 733 0010 R17AB': 'Radio Dot System (RDS) 25.Q1.1', 'EN/LZN 764 0063 R9A': 'Ericsson OMC 2.8.0'}, 'CAL Store - Network Solutions': {'EN/LZN 764 0056/20 R1A': 'Network Solutions 24.Q4.0', 'EN/LZN 764 0056/19 R1A': 'Network Solutions 24.Q3.0', 'EN/LZN 764 0056/17 R1A': 'Network Solutions 24.Q1.0', 'EN/LZN 764 0056/21 R1A': 'Network Solutions 25.Q1.0', 'EN/LZN 764 0056/22 R1A': 'Network Solutions 25.Q2.0'}, 'CAL Store - NFVI Solution': {'EN/LZN 703 0283 R109A': 'Ericsson Orchestrator Cloud Manager 23.4.8', 'EN/LZN 764 0063/1 R10A': 'Ericsson OMC 2.9.0, Ericsson Internal Support', 'EN/LZN 706 0072 R7L': 'NFVI Solution 7.10, Support', 'EN/LZN 764 0062/1 R11A': 'Cloud SDN 8.10 - CEE Integration (NFVI 7.10), Ericsson Internal Support', 'EN/LZN 703 0279 R109A': 'Ericsson Orchestrator Cloud Native 4.2.0 Support Product Information', 'EN/LZN 703 0284 R109A': 'Ericsson Orchestrator Cloud Manager 23.4.8 Support Product Information', 'EN/LZN 703 0292 R109A': 'Ericsson Orchestrator EVNFM 4.2.0 Support Product Information', 'EN/LZN 792 0001/13 R14A': 'Cloud Execution Environment (CEE) 10.11, Ericsson Internal Support', 'EN/LZN 780 0035/2 R20A': 'Software Defined Storage (SDS) 1.21, Support', 'EN/LZN 703 0289 R109A': 'Ericsson Orchestrator EVNFM 4.2.0', 'EN/LZN 795 5034/2 R32A': 'Ericsson Software Defined Infrastructure (Ericsson SDI) 2.26 Support', 'EN/LZN 703 0278 R109A': 'Ericsson Orchestrator Cloud Native 4.2.0', 'EN/LZN 792 0009/2 R35A': 'Ericsson Cloud Container Distribution 2.32.0 Internal Support Library', 'EN/LZN 703 0278/1 R109A': 'Ericsson Orchestrator Cloud Native 23.4.8', 'EN/LZN 703 0279/1 R109A': 'Ericsson Orchestrator Cloud Native 23.4.8 Support Product Information'}, 'CAL Store - CEE': {'EN/LZN 792 0001/13 R13A': 'Cloud Execution Environment (CEE) 10.10, Ericsson Internal Support'}, 'CPI Store - OMBS': {'EN/LZN 705 9066 R13A': 'Ericsson Mediation 21.12'}, 'CAL Store - Mobile Core': {'EN/LZN 702 0448/1 R39B': 'Ericsson Home Subscriber Server Front End (HSS-FE) 1.38, Support', 'EN/LZN 794 0001/2 R19B': 'Signaling Controller (SC) 1.16, Ericsson Internal Support'}, 'CPI Store - Software Defined Storage (SDS)': {'EN/LZN 780 0035/1 R19A': 'Software Defined Storage (SDS) 1.20', 'EN/LZN 760 4002 R62A': 'Radio'}, 'CPI Store - Ericsson Mediation': {'EN/LZN 705 9070 R3A': 'Ericsson Mediation 24.2'}, 'CAL Store - CNIS Solution': {'EN/LZN 780 0037/3 R10A': 'Ericsson Software Defined Infrastructure (Ericsson SDI), 3.9, Support (Update 2)', 'EN/LZN 780 0040 R10A': 'Ericsson Remote Equipment Manager 3.9, Support', 'EN/LZN 764 0063/1 R10A': 'Ericsson OMC 2.9.0, Ericsson Internal Support', 'EN/LZN 706 0093 R1V': 'CNIS Solution 1.16, Support (Updated)', 'EN/LZN 764 0067/1 R11A': 'Cloud SDN Switch (CSS), Ericsson Internal Support', 'EN/LZN 703 0279 R109A': 'Ericsson Orchestrator Cloud Native 4.2.0 Support Product Information', 'EN/LZN 703 0292 R109A': 'Ericsson Orchestrator EVNFM 4.2.0 Support Product Information', 'EN/LZN 795 5034/4 R13A': 'Ericsson Software Defined Infrastructure (Ericsson SDI) 2.26 SLX Based Networking Support', 'EN/LZN 792 0001/13 R14A': 'Cloud Execution Environment (CEE) 10.11, Ericsson Internal Support', 'EN/LZN 780 0035/2 R20A': 'Software Defined Storage (SDS) 1.21, Support', 'EN/LZN 703 0289 R109A': 'Ericsson Orchestrator EVNFM 4.2.0', 'EN/LZN 703 0278 R109A': 'Ericsson Orchestrator Cloud Native 4.2.0', 'EN/LZN 792 0009/2 R35A': 'Ericsson Cloud Container Distribution 2.32.0 Internal Support Library'}, 'CAL Store - BEAM': {'EN/LZN 741 0340 R25F': 'CAF 1.16.1, Ericsson Internal Support'}, 'CAL Store - ENIQ': {'EN/LZN 701 0537 R1L': 'Ericsson Network IQ Statistics (ENIQ-S) 24.2 EU4 Installation and Support'}, 'CPI Store - Mobile Core': {'EN/LZN 702 0448 R39B': 'Ericsson Home Subscriber Server Front End (HSS-FE) 1.38'}, 'CAL Store - R19': {'EN/LZN 780 0024 R19H': 'Ericsson BSP 8100 R19.7, Ericsson Internal Support (updated)'}, 'CAL Store - Cloud SDN': {'EN/LZN 764 0062/1 R10A': 'Cloud SDN 8.9 - CEE Integration (NFVI 7.9), Ericsson Internal Support', 'EN/LZN 764 0062/1 R9A': 'Cloud SDN 8.8 - CEE Integration (NFVI 7.8), Ericsson Internal Support'}, 'CAL Store - CNOM': {'EN/LZN 704 0277/1 R3B': 'Cloud Native CNOM 2.2, Ericsson Internal Support', 'EN/LZN 704 0220/1 R92A': 'Classic CNOM 2.3, Ericsson Internal Support'}, 'CAL Store - Ericsson Mediation': {'EN/LZN 705 9071 R2A': 'Ericsson Mediation 24.1', 'EN/LZN 705 9067 R12A': 'Ericsson Mediation 21.11'}, 'CAL Store - Ericsson Operations Manager Cloud Infrastructure [OMC]': {'EN/LZN 764 0063/1 R9A': 'Ericsson OMC 2.8.0, Ericsson Internal Support'}, 'CAL Store - Ericsson Transport Automation Controller': {'EN/LZN 795 0055/2 R3A': 'Ericsson Transport Automation Controller 1.3.0'}, 'CPI Store - Ericsson Transport Automation Controller': {'EN/LZN 795 0055/2 R6A': 'Ericsson Transport Automation Controller 25.Q1'}, 'CAL Store - DM 5GC Small on Ericsson CNIS': {'EN/LZN 704 0273/3 R4A': 'Dual-Mode 5G Core Small 2.3 on Ericsson CNIS, Ericsson Internal Support'}, 'CAL Store - DSE': {'EN/LZN 768 0186 R7E': 'Ericsson Device Security Enabler (DSE) 1.6.2, Support'}, 'CPI Store - ENIQ Statistics': {'EN/LZN 701 0493 R18E': 'Ericsson Network IQ Statistics (ENIQ-S) 25.1 GA'}, 'CAL Store - Internal Test Libraries': {'EN/LZN 703 0278 R100A': 'EOOM Test build'}, 'CPI Store - PCG': {'EN/LZN 704 0264/2 R27D': 'Packet Core Gateway (PCG) 1.28, Ericsson Internal Support'}}\n",
      "\n",
      "end\n"
     ]
    }
   ],
   "source": [
    "categories = eli_semantic_categories(index=INDEX_NAME)\n",
    "cpi_library_identities = eli_semantic_cpi_library_identities(index=INDEX_NAME)\n",
    "cpi_library_titles = eli_semantic_cpi_library_titles(index=INDEX_NAME)\n",
    "search_filterz = eli_semantic_search_filters(index=INDEX_NAME)\n",
    "\n",
    "print(f\"Categories:\\n{categories}\")\n",
    "print()\n",
    "print(f\"CPI Library IDs:\\n{cpi_library_identities}\")\n",
    "print()\n",
    "print(f\"CPI Library Titles:\\n{cpi_library_titles}\")\n",
    "print()\n",
    "print(f\"Search Filters:\\n{search_filterz}\")\n",
    "print()\n",
    "print(\"end\")"
   ]
  },
  {
   "cell_type": "code",
   "execution_count": null,
   "metadata": {},
   "outputs": [],
   "source": []
  },
  {
   "cell_type": "code",
   "execution_count": 11,
   "metadata": {},
   "outputs": [
    {
     "data": {
      "text/plain": [
       "247"
      ]
     },
     "execution_count": 11,
     "metadata": {},
     "output_type": "execute_result"
    }
   ],
   "source": [
    "len(cpi_library_identities)"
   ]
  },
  {
   "cell_type": "code",
   "execution_count": null,
   "metadata": {},
   "outputs": [],
   "source": []
  },
  {
   "cell_type": "markdown",
   "metadata": {},
   "source": [
    "**Search Filtering**\n",
    "\n",
    "In order to achieve better accuracy, it is very important that you apply the right search filters and narrow down the scope in the API requests to Intelligent Search.\n",
    "\n",
    "For example, provide a list of CPI library identities that you're interested in, instead of searching all of CPI Store."
   ]
  },
  {
   "cell_type": "markdown",
   "metadata": {},
   "source": [
    "Now let's run end to end ELI Intelligent Search queries that cover retrieval, reranking, and generation stages."
   ]
  },
  {
   "cell_type": "code",
   "execution_count": null,
   "metadata": {},
   "outputs": [
    {
     "name": "stdout",
     "output_type": "stream",
     "text": [
      "{\n",
      "  \"message\": \"Result can be found in the 'answer' and 'evidences' fields.\",\n",
      "  \"status\": \"success\",\n",
      "  \"time_elapsed\": \"24.5134\",\n",
      "  \"rephrased_query\": \"\",\n",
      "  \"answer\": \"Based on the provided search results, here's a concise summary of Ericsson Internal Support for vBGF 1.42.0:\\n\\n**Ericsson Internal Support:**\\n- **Purpose:** Provides internal software interfaces (commands, files, directories) for troubleshooting the Virtual Border Gateway Function (vBGF).\\n- **Intended Users:** Authorized Ericsson personnel.\\n- **Security:** Descriptions serve to provide security semantics, stating what can be done by which user group. Unauthorized use relieves Ericsson of support obligations [2].\\n- **Assumption:** The vBGF has been installed and configured as specified in the documentation.\\n\\n**Ericsson Library Explorer (ELEX):**\\n- **Purpose:** A tool for browsing Ericsson Customer Product Information (CPI) libraries in a standard web browser.\\n- **Compatibility:** Supports latest versions of Chrome, Firefox, or Microsoft Edge. Accessible online through My Ericsson portal and can be downloaded locally [4].\\n- **Usage:**\\n  - Online: Browse CPI at https://www.ericsson.com/en/myericsson.\\n  - Local: Download ELEX software packages from the same location, search for \\\"Ericsson Library Explorer\\\" in product category filter selection.\\n\\n**Note:** For complete information and steps, refer to the original documentation:\\n- Ericsson Support Commands and Interfaces: Virtual Border Gateway Function [1][2]\\n- How to Get Started with Ericsson Library Explorer [3][4]\",\n",
      "  \"evidences\": [\n",
      "    {\n",
      "      \"category\": \"CAL Store - IMS\",\n",
      "      \"doc_name\": \"2/006 51-AXM 101 06 Uen\",\n",
      "      \"doc_url\": \"https://calstore.internal.ericsson.com/elex?LI=EN/LZN7450028R43A&FN=2_00651-AXM10106Uen.B.html&HT=CHAPTER1\",\n",
      "      \"doc_title\": \"Ericsson Support Commands and Interfaces\",\n",
      "      \"doc_subtitle\": \"Virtual Border Gateway Function\",\n",
      "      \"section_title\": \"1 Introduction\",\n",
      "      \"doc_text\": \"This document gives an overview of the internal software interfaces (that is, commands, files, and directories) of the vBGF that Ericsson support personnel can use for troubleshooting, directly or indirectly, regardless of original design purpose. Other internal interfaces, which are not suitable for troubleshooting, are not discussed.\\nAs these troubleshooting interfaces are not intended for normal operation, the descriptions do not serve to enable readers to use the interfaces. The descriptions serve to provide security semantics, stating what can be done by which user group, which must be known for reasons of security.\\nThis document assumes that the vBGF has been installed and configured as specified in the documentation. The installation process itself is an interface that can be exploited for installing or opening other interfaces that are not listed here.\",\n",
      "      \"doc_type\": \"List\",\n",
      "      \"doc_page_num\": \"\",\n",
      "      \"cpi_folder_id\": \"2390\",\n",
      "      \"cpi_folder_title\": \"vBGF, Ericsson Internal Support\",\n",
      "      \"cpi_library_id\": \"EN/LZN 745 0028 R43A\",\n",
      "      \"cpi_library_title\": \"vBGF 1.42.0, Ericsson Internal Support\",\n",
      "      \"cpi_library_date\": \"2025-03-10\",\n",
      "      \"hit_id\": \"1\",\n",
      "      \"rec_id\": \"acd9eebb-f6bb-5f86-9fa4-5ef09a72c9a7\",\n",
      "      \"stage1_rank\": 9,\n",
      "      \"stage1_score\": 0.6565,\n",
      "      \"stage2_rank\": 1,\n",
      "      \"stage2_score\": 4.0647\n",
      "    },\n",
      "    {\n",
      "      \"category\": \"CAL Store - IMS\",\n",
      "      \"doc_name\": \"2/006 51-AXM 101 06 Uen\",\n",
      "      \"doc_url\": \"https://calstore.internal.ericsson.com/elex?LI=EN/LZN7450028R43A&FN=2_00651-AXM10106Uen.B.html&HT=CHAPTER3\",\n",
      "      \"doc_title\": \"Ericsson Support Commands and Interfaces\",\n",
      "      \"doc_subtitle\": \"Virtual Border Gateway Function\",\n",
      "      \"section_title\": \"3 Ericsson Support Commands\",\n",
      "      \"doc_text\": \"Commands discussed in this section are used by Ericsson personnel for support purposes.\\nhttps://calstore.internal.ericsson.com/elex?ID=305157&ac=image&fn=b354c4bd-tjv1451384817401.eps.png Attention!\\nRisk of system malfunction or traffic disturbance.\\nThis section lists the commands, files, and directories that are available in the system and are intended for use only by authorized Ericsson personnel. These commands, files, and directories must not be used by any third party, including the employees or contractors of purchasers of Ericsson products, unless authorized Ericsson personnel have given documented instructions to do so. Ericsson disclaims all responsibilities and liabilities relating to the use of these commands, files, and directories contrary to the aforesaid. Any unauthorized use of these commands, files, and directories relieves Ericsson of all relevant support and maintenance obligations under the applicable contracts.\",\n",
      "      \"doc_type\": \"List\",\n",
      "      \"doc_page_num\": \"\",\n",
      "      \"cpi_folder_id\": \"2390\",\n",
      "      \"cpi_folder_title\": \"vBGF, Ericsson Internal Support\",\n",
      "      \"cpi_library_id\": \"EN/LZN 745 0028 R43A\",\n",
      "      \"cpi_library_title\": \"vBGF 1.42.0, Ericsson Internal Support\",\n",
      "      \"cpi_library_date\": \"2025-03-10\",\n",
      "      \"hit_id\": \"2\",\n",
      "      \"rec_id\": \"772f7624-d4fe-5829-83de-e71841e9ac22\",\n",
      "      \"stage1_rank\": 4,\n",
      "      \"stage1_score\": 0.599,\n",
      "      \"stage2_rank\": 2,\n",
      "      \"stage2_score\": 3.4317\n",
      "    },\n",
      "    {\n",
      "      \"category\": \"CAL Store - IMS\",\n",
      "      \"doc_name\": \"1/1553-LXA 119 1929 Uen\",\n",
      "      \"doc_url\": \"https://calstore.internal.ericsson.com/elex?LI=EN/LZN7450028R43A&FN=1_1553-LXA1191929Uen.T.html&HT=CHAPTER1\",\n",
      "      \"doc_title\": \"How to Get Started with Ericsson Library Explorer\",\n",
      "      \"doc_subtitle\": \"\",\n",
      "      \"section_title\": \"1 About Ericsson Library Explorer\",\n",
      "      \"doc_text\": \"Ericsson Library Explorer, in short ELEX, is a tool that allows users to browse Ericsson Customer Product Information (CPI) libraries in a standard web browser. This document is an introduction to the use of Ericsson Library Explorer to read Ericsson CPI.\\nThe document is written for Ericsson Library Explorer version 5.8 or later. It applies both for using ELEX on the central CPI service (My Ericsson) and using ELEX on a local installation outside Ericsson.\\nEricsson Library Explorer is designed to handle all types of Ericsson product information in such a way that the same CPI library can be used on different devices:\\n- On web servers\\n- On a Local Area Network (LAN) file server\\n- On portable PCs with no network connection\\n- On mobiles, including both smartphones and tablets\\nThe modern design of Ericsson Library Explorer is based on responsive web design principles (HTML5, JavaScript, CSS3).\",\n",
      "      \"doc_type\": \"User Guide\",\n",
      "      \"doc_page_num\": \"\",\n",
      "      \"cpi_folder_id\": \"2390\",\n",
      "      \"cpi_folder_title\": \"vBGF, Ericsson Internal Support\",\n",
      "      \"cpi_library_id\": \"EN/LZN 745 0028 R43A\",\n",
      "      \"cpi_library_title\": \"vBGF 1.42.0, Ericsson Internal Support\",\n",
      "      \"cpi_library_date\": \"2025-03-10\",\n",
      "      \"hit_id\": \"3\",\n",
      "      \"rec_id\": \"b614c142-8c8d-5ab1-af90-6d556e644560\",\n",
      "      \"stage1_rank\": 3,\n",
      "      \"stage1_score\": 0.5531,\n",
      "      \"stage2_rank\": 3,\n",
      "      \"stage2_score\": -0.6685\n",
      "    },\n",
      "    {\n",
      "      \"category\": \"CAL Store - IMS\",\n",
      "      \"doc_name\": \"1/1553-LXA 119 1929 Uen\",\n",
      "      \"doc_url\": \"https://calstore.internal.ericsson.com/elex?LI=EN/LZN7450028R43A&FN=1_1553-LXA1191929Uen.T.html&HT=CHAPTER1\",\n",
      "      \"doc_title\": \"How to Get Started with Ericsson Library Explorer\",\n",
      "      \"doc_subtitle\": \"\",\n",
      "      \"section_title\": \"1 About Ericsson Library Explorer\",\n",
      "      \"doc_text\": \"Supported browsers are the latest version of Chrome(r), Firefox(r), or Microsoft Edge(r). Other modern browsers probably work as well.\\nAccessing CPI\\nEricsson CPI is accessible for browsing online through the Product Manuals application at the My Ericsson portal: https://www.ericsson.com/en/myericsson. CPI libraries can be downloaded from the same location to a local environment.\\nDownload ELEX Software\\nFor local installation, the ELEX software packages are available at the same location. After launching ELEX, search for \\\"Ericsson Library Explorer\\\" to find the applicable software packages for downloading. They are available in ELEX product category filter selection\\nOther Categories | Solutions > Tools > Ericsson Library Explorer .\",\n",
      "      \"doc_type\": \"User Guide\",\n",
      "      \"doc_page_num\": \"\",\n",
      "      \"cpi_folder_id\": \"2390\",\n",
      "      \"cpi_folder_title\": \"vBGF, Ericsson Internal Support\",\n",
      "      \"cpi_library_id\": \"EN/LZN 745 0028 R43A\",\n",
      "      \"cpi_library_title\": \"vBGF 1.42.0, Ericsson Internal Support\",\n",
      "      \"cpi_library_date\": \"2025-03-10\",\n",
      "      \"hit_id\": \"4\",\n",
      "      \"rec_id\": \"ac475838-07c2-5ff1-ad40-486d8e9b75f4\",\n",
      "      \"stage1_rank\": 6,\n",
      "      \"stage1_score\": 0.6283,\n",
      "      \"stage2_rank\": 4,\n",
      "      \"stage2_score\": -1.2413\n",
      "    },\n",
      "    {\n",
      "      \"category\": \"CAL Store - IMS\",\n",
      "      \"doc_name\": \"1/1553-LXA 119 1929 Uen\",\n",
      "      \"doc_url\": \"https://calstore.internal.ericsson.com/elex?LI=EN/LZN7450028R43A&FN=1_1553-LXA1191929Uen.T.html&HT=CHAPTER3\",\n",
      "      \"doc_title\": \"How to Get Started with Ericsson Library Explorer\",\n",
      "      \"doc_subtitle\": \"\",\n",
      "      \"section_title\": \"3 Ericsson Library Explorer, Content View\",\n",
      "      \"doc_text\": \"Clicking a library from the Library View opens it in the Content View. The Content View includes functions on document and topic level that provide a user interface with optimized performance and functionality.\\nOnly libraries created after Q2 2018 are supported in Content View.\\nOlder CPI libraries open in Active Library Explorer.\",\n",
      "      \"doc_type\": \"User Guide\",\n",
      "      \"doc_page_num\": \"\",\n",
      "      \"cpi_folder_id\": \"2390\",\n",
      "      \"cpi_folder_title\": \"vBGF, Ericsson Internal Support\",\n",
      "      \"cpi_library_id\": \"EN/LZN 745 0028 R43A\",\n",
      "      \"cpi_library_title\": \"vBGF 1.42.0, Ericsson Internal Support\",\n",
      "      \"cpi_library_date\": \"2025-03-10\",\n",
      "      \"hit_id\": \"5\",\n",
      "      \"rec_id\": \"c9467b0b-cbb4-5ffa-97a6-cf2f773a9fd6\",\n",
      "      \"stage1_rank\": 10,\n",
      "      \"stage1_score\": 0.6597,\n",
      "      \"stage2_rank\": 5,\n",
      "      \"stage2_score\": -1.7382\n",
      "    }\n",
      "  ],\n",
      "  \"model\": \"Mistral-12b\"\n",
      "}\n",
      "CPU times: total: 31.2 ms\n",
      "Wall time: 25.2 s\n"
     ]
    },
    {
     "ename": "",
     "evalue": "",
     "output_type": "error",
     "traceback": [
      "\u001b[1;31mThe Kernel crashed while executing code in the current cell or a previous cell. \n",
      "\u001b[1;31mPlease review the code in the cell(s) to identify a possible cause of the failure. \n",
      "\u001b[1;31mClick <a href='https://aka.ms/vscodeJupyterKernelCrash'>here</a> for more info. \n",
      "\u001b[1;31mView Jupyter <a href='command:jupyter.viewOutput'>log</a> for further details."
     ]
    }
   ],
   "source": [
    "%%time\n",
    "\n",
    "query1 = \"Tell me all about Ericsson Internal support, and all its libraries associated with it.\"\n",
    "\n",
    "response = eli_semantic_rag(\n",
    "    index=INDEX_NAME,\n",
    "    category=[],  # category can be empty or list of items\n",
    "    query=query1,\n",
    "    cpi_library_id=['EN/LZN 745 0028 R43A'],  # <- cpi_library_id can be a list of mulitple libraries\n",
    "    generate_answer=True,\n",
    ")\n",
    "\n",
    "print(json.dumps(response, indent=2))"
   ]
  },
  {
   "cell_type": "code",
   "execution_count": 13,
   "metadata": {},
   "outputs": [
    {
     "name": "stdout",
     "output_type": "stream",
     "text": [
      "DRX (Discontinuous Reception) is a feature that allows User Equipment (UEs) in CM-IDLE state to reduce power consumption by discontinuously monitoring the paging channel [1][3]. It enables low paging frequency, with up to 2.56 seconds of DRX cycle length [1][3].\n"
     ]
    }
   ],
   "source": [
    "# Get the final answer\n",
    "query1_answer = response.get(\"answer\", \"\")\n",
    "print(query1_answer)"
   ]
  },
  {
   "cell_type": "code",
   "execution_count": null,
   "metadata": {},
   "outputs": [],
   "source": []
  },
  {
   "cell_type": "markdown",
   "metadata": {},
   "source": [
    "#### Including Chat History in RAG Queries\n",
    "\n",
    "For demonstration purposes, we have used `query1` and `query1_answer` variables to track the previous conversation and we will use those to build chat history.\n",
    "\n",
    "In a real case, an improved data-structure needs to be used to track the user conversation and continuously update chat history. "
   ]
  },
  {
   "cell_type": "code",
   "execution_count": 11,
   "metadata": {},
   "outputs": [
    {
     "name": "stdout",
     "output_type": "stream",
     "text": [
      "Chat History: [\n",
      "  {\n",
      "    \"role\": \"user\",\n",
      "    \"content\": \"What is DRX?\"\n",
      "  },\n",
      "  {\n",
      "    \"role\": \"assistant\",\n",
      "    \"content\": \"DRX stands for Discontinuous Reception, which is a mechanism that allows User Equipment (UE) to monitor PDCCH discontinuously in connected mode, enabling energy savings by reducing the time spent listening for data transmissions [1].\"\n",
      "  }\n",
      "]\n"
     ]
    }
   ],
   "source": [
    "chat_history = [\n",
    "    {\"role\": \"user\", \"content\": query1},\n",
    "    {\"role\": \"assistant\", \"content\": query1_answer},\n",
    "]\n",
    "\n",
    "print(\"Chat History:\", json.dumps(chat_history, indent=2))"
   ]
  },
  {
   "cell_type": "code",
   "execution_count": 12,
   "metadata": {},
   "outputs": [
    {
     "name": "stdout",
     "output_type": "stream",
     "text": [
      "CPU times: user 11.9 ms, sys: 3.24 ms, total: 15.1 ms\n",
      "Wall time: 9.13 s\n"
     ]
    }
   ],
   "source": [
    "%%time\n",
    "\n",
    "query2 = \"How does it work?\"\n",
    "query2 = \"How is it configured?\"\n",
    "\n",
    "response = eli_semantic_rag(\n",
    "    index=INDEX_NAME,\n",
    "    category=\"CPI Store\",\n",
    "    query=query2,\n",
    "    chat_history=chat_history,\n",
    "    cpi_library_id=[]  # <- cpi_library_id can be a list of multiple libraries\n",
    ")"
   ]
  },
  {
   "cell_type": "code",
   "execution_count": 13,
   "metadata": {},
   "outputs": [
    {
     "name": "stdout",
     "output_type": "stream",
     "text": [
      "DRX (Discontinuous Reception) configuration includes:\n",
      "\n",
      "1. **drx-Cycle**: Sets the cycle length for DRX, e.g., `drx-Cycle = long` or `short`.\n",
      "2. **onDurationTimer**: Defines how long the UE stays awake after a paging occasion.\n",
      "3. **inactivityTimer**: Stops the drx-InactiveRetransmissionTimer upon leaving RRC_INACTIVE.\n",
      "\n",
      "These parameters are configured via dedicated signaling (RRC Reconfiguration) and can be found in Ericsson's official product documentation, such as the LTE/NR RAN Node Specifications.\n"
     ]
    }
   ],
   "source": [
    "# Get final answer for second round query\n",
    "query2_answer = response.get(\"answer\", \"\")\n",
    "print(query2_answer)"
   ]
  },
  {
   "cell_type": "code",
   "execution_count": 14,
   "metadata": {},
   "outputs": [
    {
     "name": "stdout",
     "output_type": "stream",
     "text": [
      "Chat History: [\n",
      "  {\n",
      "    \"role\": \"user\",\n",
      "    \"content\": \"What is DRX?\"\n",
      "  },\n",
      "  {\n",
      "    \"role\": \"assistant\",\n",
      "    \"content\": \"DRX stands for Discontinuous Reception, which is a mechanism that allows User Equipment (UE) to monitor PDCCH discontinuously in connected mode, enabling energy savings by reducing the time spent listening for data transmissions [1].\"\n",
      "  },\n",
      "  {\n",
      "    \"role\": \"user\",\n",
      "    \"content\": \"How is it configured?\"\n",
      "  },\n",
      "  {\n",
      "    \"role\": \"assistant\",\n",
      "    \"content\": \"DRX (Discontinuous Reception) configuration includes:\\n\\n1. **drx-Cycle**: Sets the cycle length for DRX, e.g., `drx-Cycle = long` or `short`.\\n2. **onDurationTimer**: Defines how long the UE stays awake after a paging occasion.\\n3. **inactivityTimer**: Stops the drx-InactiveRetransmissionTimer upon leaving RRC_INACTIVE.\\n\\nThese parameters are configured via dedicated signaling (RRC Reconfiguration) and can be found in Ericsson's official product documentation, such as the LTE/NR RAN Node Specifications.\"\n",
      "  }\n",
      "]\n"
     ]
    }
   ],
   "source": [
    "# Extend chat history with the second round conversation\n",
    "chat_history.append({\"role\": \"user\", \"content\": query2})\n",
    "chat_history.append({\"role\": \"assistant\", \"content\": query2_answer})\n",
    "\n",
    "print(\"Chat History:\", json.dumps(chat_history, indent=2))"
   ]
  },
  {
   "cell_type": "code",
   "execution_count": 15,
   "metadata": {},
   "outputs": [],
   "source": [
    "# This Intelligent Search powered conversation can continue\n",
    "\n",
    "# ..."
   ]
  },
  {
   "cell_type": "markdown",
   "metadata": {},
   "source": [
    "### Note on Search Filtering\n",
    "\n",
    "For various reasons you might sometimes get an empty list in the `evidences` field in the response.\n",
    "\n",
    "This could mean one of the following:\n",
    "1. Non-existent entries used in filtering -- maybe library id does not existing.\n",
    "   > Note: When filtering with multiple library identities the operation is OR, hence it will only fail if all libraries were not found\n",
    "2. Miss-aligned filters. For example, setting \"3GPP\" as category and also adding CPI library identity.  \n",
    "   > Note: cross-field filtering (eg. category + cpi_libary_id) use AND operation, hence they need to align.\n",
    "3. If the server side target index/collection on the Vector Store is empty\n",
    "   > Check that you are using the right `index_name` in the request, or leave it empty for default\n",
    "4. If the server side Vector Store down or internal connection is broken\n",
    "\n",
    "The #1 & #2 issues can be verified and addressed by the user, while 3 & 4 need attention on the ELI server side.\n",
    "\n",
    "If you notice that the evidences field is continuously empty, you can reach out to the ELI team for fixes."
   ]
  },
  {
   "cell_type": "code",
   "execution_count": null,
   "metadata": {},
   "outputs": [],
   "source": []
  },
  {
   "cell_type": "markdown",
   "metadata": {},
   "source": [
    "~end~"
   ]
  }
 ],
 "metadata": {
  "kernelspec": {
   "display_name": ".venv",
   "language": "python",
   "name": "python3"
  },
  "language_info": {
   "codemirror_mode": {
    "name": "ipython",
    "version": 3
   },
   "file_extension": ".py",
   "mimetype": "text/x-python",
   "name": "python",
   "nbconvert_exporter": "python",
   "pygments_lexer": "ipython3",
   "version": "3.11.9"
  },
  "orig_nbformat": 4
 },
 "nbformat": 4,
 "nbformat_minor": 2
}
